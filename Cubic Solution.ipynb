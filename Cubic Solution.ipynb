{
 "cells": [
  {
   "cell_type": "code",
   "execution_count": 36,
   "metadata": {},
   "outputs": [],
   "source": [
    "# import sympy for symbolic mathematics\n",
    "from sympy import var, solve, symbols\n",
    "# import pandas"
   ]
  },
  {
   "cell_type": "code",
   "execution_count": 37,
   "metadata": {},
   "outputs": [],
   "source": [
    "# Set up variables\n",
    "a0, a1, a2, a3, b0, b1, b2, b3 = var('a0 a1 a2 a3 b0 b1 b2 b3')\n",
    "t0, h, v = var('t0 h v')\n",
    "phi_t0, phi_t1, D_phi_t0, D_phi_t1 = var('phi_t0 phi_t1 D_phi_t0 D_phi_t1')\n",
    "DD_phi_t0, DD_phi_t1 = var('DD_phi_t0 DD_phi_t1')"
   ]
  },
  {
   "cell_type": "code",
   "execution_count": 38,
   "metadata": {},
   "outputs": [],
   "source": [
    "# Equations for solution in terms of 'a1'\n",
    "E13 = a1 + a2*h + a3*h**2 - 1\n",
    "E14 = b1 + b2*h + b3*h**2 - v/h\n",
    "E15 = b1 - D_phi_t0*a1\n",
    "E16 = b1 + 2*b2*h + 3*b3*h**2 - (D_phi_t1*(a1 + 2*a2*h + 3*a3*h**2))\n",
    "E17 = 2*b2 - D_phi_t0*2*a2 + DD_phi_t0*a1**2"
   ]
  },
  {
   "cell_type": "code",
   "execution_count": 39,
   "metadata": {},
   "outputs": [],
   "source": [
    "# Solve the system of equations: E13 - E17\n",
    "sols2 = solve([E13, E14, E15, E16, E17], [a2, a3, b1, b2, b3])"
   ]
  },
  {
   "cell_type": "code",
   "execution_count": 40,
   "metadata": {},
   "outputs": [
    {
     "output_type": "stream",
     "name": "stdout",
     "text": "a2 =  (DD_phi_t0*a1**2*h**2 - 4*D_phi_t0*a1*h + 4*D_phi_t1*a1*h - 6*D_phi_t1*h + 6*v)/(2*h**2*(D_phi_t0 - D_phi_t1))\na3 =  -(DD_phi_t0*a1**2*h**2 - 2*D_phi_t0*a1*h - 2*D_phi_t0*h + 2*D_phi_t1*a1*h - 4*D_phi_t1*h + 6*v)/(2*h**3*(D_phi_t0 - D_phi_t1))\nb1 =  D_phi_t0*a1\nb2 =  (DD_phi_t0*D_phi_t1*a1**2*h**2 - 4*D_phi_t0**2*a1*h + 4*D_phi_t0*D_phi_t1*a1*h - 6*D_phi_t0*D_phi_t1*h + 6*D_phi_t0*v)/(2*h**2*(D_phi_t0 - D_phi_t1))\nb3 =  -(DD_phi_t0*D_phi_t1*a1**2*h**2 - 2*D_phi_t0**2*a1*h + 2*D_phi_t0*D_phi_t1*a1*h - 6*D_phi_t0*D_phi_t1*h + 4*D_phi_t0*v + 2*D_phi_t1*v)/(2*h**3*(D_phi_t0 - D_phi_t1))\n"
    }
   ],
   "source": [
    "# print values of a2, a3, b1, b2, b3 in terms of a1\n",
    "print(\"a2 = \", (sols2[a2]).factor())\n",
    "print(\"a3 = \", (sols2[a3]).factor())\n",
    "print(\"b1 = \", (sols2[b1]).factor())\n",
    "print(\"b2 = \", (sols2[b2]).factor())\n",
    "print(\"b3 = \", (sols2[b3]).factor())"
   ]
  },
  {
   "cell_type": "code",
   "execution_count": 50,
   "metadata": {},
   "outputs": [
    {
     "output_type": "execute_result",
     "data": {
      "text/plain": "-DD_phi_t1*(a1 + (DD_phi_t0*a1**2*h**2 - 4*D_phi_t0*a1*h + 4*D_phi_t1*a1*h - 6*D_phi_t1*h + 6*v)/(h*(D_phi_t0 - D_phi_t1)) - 3*(DD_phi_t0*a1**2*h**2 - 2*D_phi_t0*a1*h - 2*D_phi_t0*h + 2*D_phi_t1*a1*h - 4*D_phi_t1*h + 6*v)/(2*h*(D_phi_t0 - D_phi_t1)))**2 - D_phi_t1*((DD_phi_t0*a1**2*h**2 - 4*D_phi_t0*a1*h + 4*D_phi_t1*a1*h - 6*D_phi_t1*h + 6*v)/(h**2*(D_phi_t0 - D_phi_t1)) - 3*(DD_phi_t0*a1**2*h**2 - 2*D_phi_t0*a1*h - 2*D_phi_t0*h + 2*D_phi_t1*a1*h - 4*D_phi_t1*h + 6*v)/(h**2*(D_phi_t0 - D_phi_t1))) + (DD_phi_t0*D_phi_t1*a1**2*h**2 - 4*D_phi_t0**2*a1*h + 4*D_phi_t0*D_phi_t1*a1*h - 6*D_phi_t0*D_phi_t1*h + 6*D_phi_t0*v)/(h**2*(D_phi_t0 - D_phi_t1)) - 3*(DD_phi_t0*D_phi_t1*a1**2*h**2 - 2*D_phi_t0**2*a1*h + 2*D_phi_t0*D_phi_t1*a1*h - 6*D_phi_t0*D_phi_t1*h + 4*D_phi_t0*v + 2*D_phi_t1*v)/(h**2*(D_phi_t0 - D_phi_t1))",
      "text/latex": "$\\displaystyle - DD_{\\phi t1} \\left(a_{1} + \\frac{DD_{\\phi t0} a_{1}^{2} h^{2} - 4 D_{\\phi t0} a_{1} h + 4 D_{\\phi t1} a_{1} h - 6 D_{\\phi t1} h + 6 v}{h \\left(D_{\\phi t0} - D_{\\phi t1}\\right)} - \\frac{3 \\left(DD_{\\phi t0} a_{1}^{2} h^{2} - 2 D_{\\phi t0} a_{1} h - 2 D_{\\phi t0} h + 2 D_{\\phi t1} a_{1} h - 4 D_{\\phi t1} h + 6 v\\right)}{2 h \\left(D_{\\phi t0} - D_{\\phi t1}\\right)}\\right)^{2} - D_{\\phi t1} \\left(\\frac{DD_{\\phi t0} a_{1}^{2} h^{2} - 4 D_{\\phi t0} a_{1} h + 4 D_{\\phi t1} a_{1} h - 6 D_{\\phi t1} h + 6 v}{h^{2} \\left(D_{\\phi t0} - D_{\\phi t1}\\right)} - \\frac{3 \\left(DD_{\\phi t0} a_{1}^{2} h^{2} - 2 D_{\\phi t0} a_{1} h - 2 D_{\\phi t0} h + 2 D_{\\phi t1} a_{1} h - 4 D_{\\phi t1} h + 6 v\\right)}{h^{2} \\left(D_{\\phi t0} - D_{\\phi t1}\\right)}\\right) + \\frac{DD_{\\phi t0} D_{\\phi t1} a_{1}^{2} h^{2} - 4 D_{\\phi t0}^{2} a_{1} h + 4 D_{\\phi t0} D_{\\phi t1} a_{1} h - 6 D_{\\phi t0} D_{\\phi t1} h + 6 D_{\\phi t0} v}{h^{2} \\left(D_{\\phi t0} - D_{\\phi t1}\\right)} - \\frac{3 \\left(DD_{\\phi t0} D_{\\phi t1} a_{1}^{2} h^{2} - 2 D_{\\phi t0}^{2} a_{1} h + 2 D_{\\phi t0} D_{\\phi t1} a_{1} h - 6 D_{\\phi t0} D_{\\phi t1} h + 4 D_{\\phi t0} v + 2 D_{\\phi t1} v\\right)}{h^{2} \\left(D_{\\phi t0} - D_{\\phi t1}\\right)}$"
     },
     "metadata": {},
     "execution_count": 50
    }
   ],
   "source": [
    "E8 = 2*b2 + 6*b3*h - D_phi_t1*(2*a2 + 6*a3*h) - DD_phi_t1*(a1 + 2*a2*h + 3*a3*h**2)**2\n",
    "quartic_eq = E8.subs({a2:(sols2[a2]).factor(), a3:(sols2[a3]).factor(), b2:(sols2[b2]).factor(), b3:(sols2[b3]).factor()})\n",
    "# print (\"Quartic Equation is: \", quartic_eq)\n",
    "quartic_eq\n"
   ]
  },
  {
   "cell_type": "code",
   "execution_count": 49,
   "metadata": {},
   "outputs": [
    {
     "output_type": "execute_result",
     "data": {
      "text/plain": " + 24*D_phi_t0**2*v + 48*D_phi_t0*D_phi_t1**2*h - 48*D_phi_t0*D_phi_t1*v - 24*D_phi_t1**3*h + 24*D_phi_t1**2*v)/(3*DD_phi_t0**3*DD_phi_t1*h**6) - (-8*D_phi_t0**3 + 24*D_phi_t0**2*D_phi_t1 - 24*D_phi_t0*D_phi_t1**2 + 8*D_phi_t1**3)**2/(8*DD_phi_t0**4*DD_phi_t1**2*h**6))**(1/3) - 2*(-12*D_phi_t0*h + 12*v)/(3*DD_phi_t0*h**2))))/2, Eq((-12*D_phi_t0*h + 12*v)**2/(12*DD_phi_t0**2*h**4) + (36*DD_phi_t1*D_phi_t0**2*h**2 - 72*DD_phi_t1*D_phi_t0*h*v + 36*DD_phi_t1*v**2 - 24*D_phi_t0**2*D_phi_t1*h + 24*D_phi_t0**2*v + 48*D_phi_t0*D_phi_t1**2*h - 48*D_phi_t0*D_phi_t1*v - 24*D_phi_t1**3*h + 24*D_phi_t1**2*v)/(DD_phi_t0**2*DD_phi_t1*h**4), 0)), (sqrt(-2*(-(-12*D_phi_t0*h + 12*v)**2/(12*DD_phi_t0**2*h**4) - (36*DD_phi_t1*D_phi_t0**2*h**2 - 72*DD_phi_t1*D_phi_t0*h*v + 36*DD_phi_t1*v**2 - 24*D_phi_t0**2*D_phi_t1*h + 24*D_phi_t0**2*v + 48*D_phi_t0*D_phi_t1**2*h - 48*D_phi_t0*D_phi_t1*v - 24*D_phi_t1**3*h + 24*D_phi_t1**2*v)/(DD_phi_t0**2*DD_phi_t1*h**4))/(3*(sqrt((-(-12*D_phi_t0*h + 12*v)**2/(12*DD_phi_t0**2*h**4) - (36*DD_phi_t1*D_phi_t0**2*h**2 - 72*DD_phi_t1*D_phi_t0*h*v + 36*DD_phi_t1*v**2 - 24*D_phi_t0**2*D_phi_t1*h + 24*D_phi_t0**2*v + 48*D_phi_t0*D_phi_t1**2*h - 48*D_phi_t0*D_phi_t1*v - 24*D_phi_t1**3*h + 24*D_phi_t1**2*v)/(DD_phi_t0**2*DD_phi_t1*h**4))**3/27 + (-(-12*D_phi_t0*h + 12*v)**3/(108*DD_phi_t0**3*h**6) + (-12*D_phi_t0*h + 12*v)*(36*DD_phi_t1*D_phi_t0**2*h**2 - 72*DD_phi_t1*D_phi_t0*h*v + 36*DD_phi_t1*v**2 - 24*D_phi_t0**2*D_phi_t1*h + 24*D_phi_t0**2*v + 48*D_phi_t0*D_phi_t1**2*h - 48*D_phi_t0*D_phi_t1*v - 24*D_phi_t1**3*h + 24*D_phi_t1**2*v)/(3*DD_phi_t0**3*DD_phi_t1*h**6) - (-8*D_phi_t0**3 + 24*D_phi_t0**2*D_phi_t1 - 24*D_phi_t0*D_phi_t1**2 + 8*D_phi_t1**3)**2/(8*DD_phi_t0**4*DD_phi_t1**2*h**6))**2/4) + (-12*D_phi_t0*h + 12*v)**3/(216*DD_phi_t0**3*h**6) - (-12*D_phi_t0*h + 12*v)*(36*DD_phi_t1*D_phi_t0**2*h**2 - 72*DD_phi_t1*D_phi_t0*h*v + 36*DD_phi_t1*v**2 - 24*D_phi_t0**2*D_phi_t1*h + 24*D_phi_t0**2*v + 48*D_phi_t0*D_phi_t1**2*h - 48*D_phi_t0*D_phi_t1*v - 24*D_phi_t1**3*h + 24*D_phi_t1**2*v)/(6*DD_phi_t0**3*DD_phi_t1*h**6) + (-8*D_phi_t0**3 + 24*D_phi_t0**2*D_phi_t1 - 24*D_phi_t0*D_phi_t1**2 + 8*D_phi_t1**3)**2/(16*DD_phi_t0**4*DD_phi_t1**2*h**6))**(1/3)) + 2*(sqrt((-(-12*D_phi_t0*h + 12*v)**2/(12*DD_phi_t0**2*h**4) - (36*DD_phi_t1*D_phi_t0**2*h**2 - 72*DD_phi_t1*D_phi_t0*h*v + 36*DD_phi_t1*v**2 - 24*D_phi_t0**2*D_phi_t1*h + 24*D_phi_t0**2*v + 48*D_phi_t0*D_phi_t1**2*h - 48*D_phi_t0*D_phi_t1*v - 24*D_phi_t1**3*h + 24*D_phi_t1**2*v)/(DD_phi_t0**2*DD_phi_t1*h**4))**3/27 + (-(-12*D_phi_t0*h + 12*v)**3/(108*DD_phi_t0**3*h**6) + (-12*D_phi_t0*h + 12*v)*(36*DD_phi_t1*D_phi_t0**2*h**2 - 72*DD_phi_t1*D_phi_t0*h*v + 36*DD_phi_t1*v**2 - 24*D_phi_t0**2*D_phi_t1*h + 24*D_phi_t0**2*v + 48*D_phi_t0*D_phi_t1**2*h - 48*D_phi_t0*D_phi_t1*v - 24*D_phi_t1**3*h + 24*D_phi_t1**2*v)/(3*DD_phi_t0**3*DD_phi_t1*h**6) - (-8*D_phi_t0**3 + 24*D_phi_t0**2*D_phi_t1 - 24*D_phi_t0*D_phi_t1**2 + 8*D_phi_t1**3)**2/(8*DD_phi_t0**4*DD_phi_t1**2*h**6))**2/4) + (-12*D_phi_t0*h + 12*v)**3/(216*DD_phi_t0**3*h**6) - (-12*D_phi_t0*h + 12*v)*(36*DD_phi_t1*D_phi_t0**2*h**2 - 72*DD_phi_t1*D_phi_t0*h*v + 36*DD_phi_t1*v**2 - 24*D_phi_t0**2*D_phi_t1*h + 24*D_phi_t0**2*v + 48*D_phi_t0*D_phi_t1**2*h - 48*D_phi_t0*D_phi_t1*v - 24*D_phi_t1**3*h + 24*D_phi_t1**2*v)/(6*DD_phi_t0**3*DD_phi_t1*h**6) + (-8*D_phi_t0**3 + 24*D_phi_t0**2*D_phi_t1 - 24*D_phi_t0*D_phi_t1**2 + 8*D_phi_t1**3)**2/(16*DD_phi_t0**4*DD_phi_t1**2*h**6))**(1/3) - 2*(-12*D_phi_t0*h + 12*v)/(3*DD_phi_t0*h**2))/2 - sqrt(2*(-(-12*D_phi_t0*h + 12*v)**2/(12*DD_phi_t0**2*h**4) - (36*DD_phi_t1*D_phi_t0**2*h**2 - 72*DD_phi_t1*D_phi_t0*h*v + 36*DD_phi_t1*v**2 - 24*D_phi_t0**2*D_phi_t1*h + 24*D_phi_t0**2*v + 48*D_phi_t0*D_phi_t1**2*h - 48*D_phi_t0*D_phi_t1*v - 24*D_phi_t1**3*h + 24*D_phi_t1**2*v)/(DD_phi_t0**2*DD_phi_t1*h**4))/(3*(sqrt((-(-12*D_phi_t0*h + 12*v)**2/(12*DD_phi_t0**2*h**4) - (36*DD_phi_t1*D_phi_t0**2*h**2 - 72*DD_phi_t1*D_phi_t0*h*v + 36*DD_phi_t1*v**2 - 24*D_phi_t0**2*D_phi_t1*h + 24*D_phi_t0**2*v + 48*D_phi_t0*D_phi_t1**2*h - 48*D_phi_t0*D_phi_t1*v - 24*D_phi_t1**3*h + 24*D_phi_t1**2*v)/(DD_phi_t0**2*DD_phi_t1*h**4))**3/27 + (-(-12*D_phi_t0*h + 12*v)**3/(108*DD_phi_t0**3*h**6) + (-12*D_phi_t0*h + 12*v)*(36*DD_phi_t1*D_phi_t0**2*h**2 - 72*DD_phi_t1*D_phi_t0*h*v + 36*DD_phi_t1*v**2 - 24*D_phi_t0**2*D_phi_t1*h + 24*D_phi_t0**2*v + 48*D_phi_t0*D_phi_t1**2*h - 48*D_phi_t0*D_phi_t1*v - 24*D_phi_t1**3*h + 24*D_phi_t1**2*v)/(3*DD_phi_t0**3*DD_phi_t1*h**6) - (-8*D_phi_t0**3 + 24*D_phi_t0**2*D_phi_t1 - 24*D_phi_t0*D_phi_t1**2 + 8*D_phi_t1**3)**2/(8*DD_phi_t0**4*DD_phi_t1**2*h**6))**2/4) + (-12*D_phi_t0*h + 12*v)**3/(216*DD_phi_t0**3*h**6) - (-12*D_phi_t0*h + 12*v)*(36*DD_phi_t1*D_phi_t0**2*h**2 - 72*DD_phi_t1*D_phi_t0*h*v + 36*DD_phi_t1*v**2 - 24*D_phi_t0**2*D_phi_t1*h + 24*D_phi_t0**2*v + 48*D_phi_t0*D_phi_t1**2*h - 48*D_phi_t0*D_phi_t1*v - 24*D_phi_t1**3*h + 24*D_phi_t1**2*v)/(6*DD_phi_t0**3*DD_phi_t1*h**6) + (-8*D_phi_t0**3 + 24*D_phi_t0**2*D_phi_t1 - 24*D_phi_t0*D_phi_t1**2 + 8*D_phi_t1**3)**2/(16*DD_phi_t0**4*DD_phi_t1**2*h**6))**(1/3)) - 2*(sqrt((-(-12*D_phi_t0*h + 12*v)**2/(12*DD_phi_t0**2*h**4) - (36*DD_phi_t1*D_phi_t0**2*h**2 - 72*DD_phi_t1*D_phi_t0*h*v + 36*DD_phi_t1*v**2 - 24*D_phi_t0**2*D_phi_t1*h + 24*D_phi_t0**2*v + 48*D_phi_t0*D_phi_t1**2*h - 48*D_phi_t0*D_phi_t1*v - 24*D_phi_t1**3*h + 24*D_phi_t1**2*v)/(DD_phi_t0**2*DD_phi_t1*h**4))**3/27 + (-(-12*D_phi_t0*h + 12*v)**3/(108*DD_phi_t0**3*h**6) + (-12*D_phi_t0*h + 12*v)*(36*DD_phi_t1*D_phi_t0**2*h**2 - 72*DD_phi_t1*D_phi_t0*h*v + 36*DD_phi_t1*v**2 - 24*D_phi_t0**2*D_phi_t1*h + 24*D_phi_t0**2*v + 48*D_phi_t0*D_phi_t1**2*h - 48*D_phi_t0*D_phi_t1*v - 24*D_phi_t1**3*h + 24*D_phi_t1**2*v)/(3*DD_phi_t0**3*DD_phi_t1*h**6) - (-8*D_phi_t0**3 + 24*D_phi_t0**2*D_phi_t1 - 24*D_phi_t0*D_phi_t1**2 + 8*D_phi_t1**3)**2/(8*DD_phi_t0**4*DD_phi_t1**2*h**6))**2/4) + (-12*D_phi_t0*h + 12*v)**3/(216*DD_phi_t0**3*h**6) - (-12*D_phi_t0*h + 12*v)*(36*DD_phi_t1*D_phi_t0**2*h**2 - 72*DD_phi_t1*D_phi_t0*h*v + 36*DD_phi_t1*v**2 - 24*D_phi_t0**2*D_phi_t1*h + 24*D_phi_t0**2*v + 48*D_phi_t0*D_phi_t1**2*h - 48*D_phi_t0*D_phi_t1*v - 24*D_phi_t1**3*h + 24*D_phi_t1**2*v)/(6*DD_phi_t0**3*DD_phi_t1*h**6) + (-8*D_phi_t0**3 + 24*D_phi_t0**2*D_phi_t1 - 24*D_phi_t0*D_phi_t1**2 + 8*D_phi_t1**3)**2/(16*DD_phi_t0**4*DD_phi_t1**2*h**6))**(1/3) - 4*(-12*D_phi_t0*h + 12*v)/(3*DD_phi_t0*h**2) - 2*(-8*D_phi_t0**3 + 24*D_phi_t0**2*D_phi_t1 - 24*D_phi_t0*D_phi_t1**2 + 8*D_phi_t1**3)/(DD_phi_t0**2*DD_phi_t1*h**3*sqrt(-2*(-(-12*D_phi_t0*h + 12*v)**2/(12*DD_phi_t0**2*h**4) - (36*DD_phi_t1*D_phi_t0**2*h**2 - 72*DD_phi_t1*D_phi_t0*h*v + 36*DD_phi_t1*v**2 - 24*D_phi_t0**2*D_phi_t1*h + 24*D_phi_t0**2*v + 48*D_phi_t0*D_phi_t1**2*h - 48*D_phi_t0*D_phi_t1*v - 24*D_phi_t1**3*h + 24*D_phi_t1**2*v)/(DD_phi_t0**2*DD_phi_t1*h**4))/(3*(sqrt((-(-12*D_phi_t0*h + 12*v)**2/(12*DD_phi_t0**2*h**4) - (36*DD_phi_t1*D_phi_t0**2*h**2 - 72*DD_phi_t1*D_phi_t0*h*v + 36*DD_phi_t1*v**2 - 24*D_phi_t0**2*D_phi_t1*h + 24*D_phi_t0**2*v + 48*D_phi_t0*D_phi_t1**2*h - 48*D_phi_t0*D_phi_t1*v - 24*D_phi_t1**3*h + 24*D_phi_t1**2*v)/(DD_phi_t0**2*DD_phi_t1*h**4))**3/27 + (-(-12*D_phi_t0*h + 12*v)**3/(108*DD_phi_t0**3*h**6) + (-12*D_phi_t0*h + 12*v)*(36*DD_phi_t1*D_phi_t0**2*h**2 - 72*DD_phi_t1*D_phi_t0*h*v + 36*DD_phi_t1*v**2 - 24*D_phi_t0**2*D_phi_t1*h + 24*D_phi_t0**2*v + 48*D_phi_t0*D_phi_t1**2*h - 48*D_phi_t0*D_phi_t1*v - 24*D_phi_t1**3*h + 24*D_phi_t1**2*v)/(3*DD_phi_t0**3*DD_phi_t1*h**6) - (-8*D_phi_t0**3 + 24*D_phi_t0**2*D_phi_t1 - 24*D_phi_t0*D_phi_t1**2 + 8*D_phi_t1**3)**2/(8*DD_phi_t0**4*DD_phi_t1**2*h**6))**2/4) + (-12*D_phi_t0*h + 12*v)**3/(216*DD_phi_t0**3*h**6) - (-12*D_phi_t0*h + 12*v)*(36*DD_phi_t1*D_phi_t0**2*h**2 - 72*DD_phi_t1*D_phi_t0*h*v + 36*DD_phi_t1*v**2 - 24*D_phi_t0**2*D_phi_t1*h + 24*D_phi_t0**2*v + 48*D_phi_t0*D_phi_t1**2*h - 48*D_phi_t0*D_phi_t1*v - 24*D_phi_t1**3*h + 24*D_phi_t1**2*v)/(6*DD_phi_t0**3*DD_phi_t1*h**6) + (-8*D_phi_t0**3 + 24*D_phi_t0**2*D_phi_t1 - 24*D_phi_t0*D_phi_t1**2 + 8*D_phi_t1**3)**2/(16*DD_phi_t0**4*DD_phi_t1**2*h**6))**(1/3)) + 2*(sqrt((-(-12*D_phi_t0*h + 12*v)**2/(12*DD_phi_t0**2*h**4) - (36*DD_phi_t1*D_phi_t0**2*h**2 - 72*DD_phi_t1*D_phi_t0*h*v + 36*DD_phi_t1*v**2 - 24*D_phi_t0**2*D_phi_t1*h + 24*D_phi_t0**2*v + 48*D_phi_t0*D_phi_t1**2*h - 48*D_phi_t0*D_phi_t1*v - 24*D_phi_t1**3*h + 24*D_phi_t1**2*v)/(DD_phi_t0**2*DD_phi_t1*h**4))**3/27 + (-(-12*D_phi_t0*h + 12*v)**3/(108*DD_phi_t0**3*h**6) + (-12*D_phi_t0*h + 12*v)*(36*DD_phi_t1*D_phi_t0**2*h**2 - 72*DD_phi_t1*D_phi_t0*h*v + 36*DD_phi_t1*v**2 - 24*D_phi_t0**2*D_phi_t1*h + 24*D_phi_t0**2*v + 48*D_phi_t0*D_phi_t1**2*h - 48*D_phi_t0*D_phi_t1*v - 24*D_phi_t1**3*h + 24*D_phi_t1**2*v)/(3*DD_phi_t0**3*DD_phi_t1*h**6) - (-8*D_phi_t0**3 + 24*D_phi_t0**2*D_phi_t1 - 24*D_phi_t0*D_phi_t1**2 + 8*D_phi_t1**3)**2/(8*DD_phi_t0**4*DD_phi_t1**2*h**6))**2/4) + (-12*D_phi_t0*h + 12*v)**3/(216*DD_phi_t0**3*h**6) - (-12*D_phi_t0*h + 12*v)*(36*DD_phi_t1*D_phi_t0**2*h**2 - 72*DD_phi_t1*D_phi_t0*h*v + 36*DD_phi_t1*v**2 - 24*D_phi_t0**2*D_phi_t1*h + 24*D_phi_t0**2*v + 48*D_phi_t0*D_phi_t1**2*h - 48*D_phi_t0*D_phi_t1*v - 24*D_phi_t1**3*h + 24*D_phi_t1**2*v)/(6*DD_phi_t0**3*DD_phi_t1*h**6) + (-8*D_phi_t0**3 + 24*D_phi_t0**2*D_phi_t1 - 24*D_phi_t0*D_phi_t1**2 + 8*D_phi_t1**3)**2/(16*DD_phi_t0**4*DD_phi_t1**2*h**6))**(1/3) - 2*(-12*D_phi_t0*h + 12*v)/(3*DD_phi_t0*h**2))))/2, True)),\n Piecewise((sqrt(-2*(-(-12*D_phi_t0*h + 12*v)**3/(108*DD_phi_t0**3*h**6) + (-12*D_phi_t0*h + 12*v)*(36*DD_phi_t1*D_phi_t0**2*h**2 - 72*DD_phi_t1*D_phi_t0*h*v + 36*DD_phi_t1*v**2 - 24*D_phi_t0**2*D_phi_t1*h + 24*D_phi_t0**2*v + 48*D_phi_t0*D_phi_t1**2*h - 48*D_phi_t0*D_phi_t1*v - 24*D_phi_t1**3*h + 24*D_phi_t1**2*v)/(3*DD_phi_t0**3*DD_phi_t1*h**6) - (-8*D_phi_t0**3 + 24*D_phi_t0**2*D_phi_t1 - 24*D_phi_t0*D_phi_t1**2 + 8*D_phi_t1**3)**2/(8*DD_phi_t0**4*DD_phi_t1**2*h**6))**(1/3) - 2*(-12*D_phi_t0*h + 12*v)/(3*DD_phi_t0*h**2))/2 + sqrt(2*(-(-12*D_phi_t0*h + 12*v)**3/(108*DD_phi_t0**3*h**6) + (-12*D_phi_t0*h + 12*v)*(36*DD_phi_t1*D_phi_t0**2*h**2 - 72*DD_phi_t1*D_phi_t0*h*v + 36*DD_phi_t1*v**2 - 24*D_phi_t0**2*D_phi_t1*h + 24*D_phi_t0**2*v + 48*D_phi_t0*D_phi_t1**2*h - 48*D_phi_t0*D_phi_t1*v - 24*D_phi_t1**3*h + 24*D_phi_t1**2*v)/(3*DD_phi_t0**3*DD_phi_t1*h**6) - (-8*D_phi_t0**3 + 24*D_phi_t0**2*D_phi_t1 - 24*D_phi_t0*D_phi_t1**2 + 8*D_phi_t1**3)**2/(8*DD_phi_t0**4*DD_phi_t1**2*h**6))**(1/3) - 4*(-12*D_phi_t0*h + 12*v)/(3*DD_phi_t0*h**2) - 2*(-8*D_phi_t0**3 + 24*D_phi_t0**2*D_phi_t1 - 24*D_phi_t0*D_phi_t1**2 + 8*D_phi_t1**3)/(DD_phi_t0**2*DD_phi_t1*h**3*sqrt(-2*(-(-12*D_phi_t0*h + 12*v)**3/(108*DD_phi_t0**3*h**6) + (-12*D_phi_t0*h + 12*v)*(36*DD_phi_t1*D_phi_t0**2*h**2 - 72*DD_phi_t1*D_phi_t0*h*v + 36*DD_phi_t1*v**2 - 24*D_phi_t0**2*D_phi_t1*h + 24*D_phi_t0**2*v + 48*D_phi_t0*D_phi_t1**2*h - 48*D_phi_t0*D_phi_t1*v - 24*D_phi_t1**3*h + 24*D_phi_t1**2*v)/(3*DD_phi_t0**3*DD_phi_t1*h**6) - (-8*D_phi_t0**3 + 24*D_phi_t0**2*D_phi_t1 - 24*D_phi_t0*D_phi_t1**2 + 8*D_phi_t1**3)**2/(8*DD_phi_t0**4*DD_phi_t1**2*h**6))**(1/3) - 2*(-12*D_phi_t0*h + 12*v)/(3*DD_phi_t0*h**2))))/2, Eq((-12*D_phi_t0*h + 12*v)**2/(12*DD_phi_t0**2*h**4) + (36*DD_phi_t1*D_phi_t0**2*h**2 - 72*DD_phi_t1*D_phi_t0*h*v + 36*DD_phi_t1*v**2 - 24*D_phi_t0**2*D_phi_t1*h + 24*D_phi_t0**2*v + 48*D_phi_t0*D_phi_t1**2*h - 48*D_phi_t0*D_phi_t1*v - 24*D_phi_t1**3*h + 24*D_phi_t1**2*v)/(DD_phi_t0**2*DD_phi_t1*h**4), 0)), (sqrt(-2*(-(-12*D_phi_t0*h + 12*v)**2/(12*DD_phi_t0**2*h**4) - (36*DD_phi_t1*D_phi_t0**2*h**2 - 72*DD_phi_t1*D_phi_t0*h*v + 36*DD_phi_t1*v**2 - 24*D_phi_t0**2*D_phi_t1*h + 24*D_phi_t0**2*v + 48*D_phi_t0*D_phi_t1**2*h - 48*D_phi_t0*D_phi_t1*v - 24*D_phi_t1**3*h + 24*D_phi_t1**2*v)/(DD_phi_t0**2*DD_phi_t1*h**4))/(3*(sqrt((-(-12*D_phi_t0*h + 12*v)**2/(12*DD_phi_t0**2*h**4) - (36*DD_phi_t1*D_phi_t0**2*h**2 - 72*DD_phi_t1*D_phi_t0*h*v + 36*DD_phi_t1*v**2 - 24*D_phi_t0**2*D_phi_t1*h + 24*D_phi_t0**2*v + 48*D_phi_t0*D_phi_t1**2*h - 48*D_phi_t0*D_phi_t1*v - 24*D_phi_t1**3*h + 24*D_phi_t1**2*v)/(DD_phi_t0**2*DD_phi_t1*h**4))**3/27 + (-(-12*D_phi_t0*h + 12*v)**3/(108*DD_phi_t0**3*h**6) + (-12*D_phi_t0*h + 12*v)*(36*DD_phi_t1*D_phi_t0**2*h**2 - 72*DD_phi_t1*D_phi_t0*h*v + 36*DD_phi_t1*v**2 - 24*D_phi_t0**2*D_phi_t1*h + 24*D_phi_t0**2*v + 48*D_phi_t0*D_phi_t1**2*h - 48*D_phi_t0*D_phi_t1*v - 24*D_phi_t1**3*h + 24*D_phi_t1**2*v)/(3*DD_phi_t0**3*DD_phi_t1*h**6) - (-8*D_phi_t0**3 + 24*D_phi_t0**2*D_phi_t1 - 24*D_phi_t0*D_phi_t1**2 + 8*D_phi_t1**3)**2/(8*DD_phi_t0**4*DD_phi_t1**2*h**6))**2/4) + (-12*D_phi_t0*h + 12*v)**3/(216*DD_phi_t0**3*h**6) - (-12*D_phi_t0*h + 12*v)*(36*DD_phi_t1*D_phi_t0**2*h**2 - 72*DD_phi_t1*D_phi_t0*h*v + 36*DD_phi_t1*v**2 - 24*D_phi_t0**2*D_phi_t1*h + 24*D_phi_t0**2*v + 48*D_phi_t0*D_phi_t1**2*h - 48*D_phi_t0*D_phi_t1*v - 24*D_phi_t1**3*h + 24*D_phi_t1**2*v)/(6*DD_phi_t0**3*DD_phi_t1*h**6) + (-8*D_phi_t0**3 + 24*D_phi_t0**2*D_phi_t1 - 24*D_phi_t0*D_phi_t1**2 + 8*D_phi_t1**3)**2/(16*DD_phi_t0**4*DD_phi_t1**2*h**6))**(1/3)) + 2*(sqrt((-(-12*D_phi_t0*h + 12*v)**2/(12*DD_phi_t0**2*h**4) - (36*DD_phi_t1*D_phi_t0**2*h**2 - 72*DD_phi_t1*D_phi_t0*h*v + 36*DD_phi_t1*v**2 - 24*D_phi_t0**2*D_phi_t1*h + 24*D_phi_t0**2*v + 48*D_phi_t0*D_phi_t1**2*h - 48*D_phi_t0*D_phi_t1*v - 24*D_phi_t1**3*h + 24*D_phi_t1**2*v)/(DD_phi_t0**2*DD_phi_t1*h**4))**3/27 + (-(-12*D_phi_t0*h + 12*v)**3/(108*DD_phi_t0**3*h**6) + (-12*D_phi_t0*h + 12*v)*(36*DD_phi_t1*D_phi_t0**2*h**2 - 72*DD_phi_t1*D_phi_t0*h*v + 36*DD_phi_t1*v**2 - 24*D_phi_t0**2*D_phi_t1*h + 24*D_phi_t0**2*v + 48*D_phi_t0*D_phi_t1**2*h - 48*D_phi_t0*D_phi_t1*v - 24*D_phi_t1**3*h + 24*D_phi_t1**2*v)/(3*DD_phi_t0**3*DD_phi_t1*h**6) - (-8*D_phi_t0**3 + 24*D_phi_t0**2*D_phi_t1 - 24*D_phi_t0*D_phi_t1**2 + 8*D_phi_t1**3)**2/(8*DD_phi_t0**4*DD_phi_t1**2*h**6))**2/4) + (-12*D_phi_t0*h + 12*v)**3/(216*DD_phi_t0**3*h**6) - (-12*D_phi_t0*h + 12*v)*(36*DD_phi_t1*D_phi_t0**2*h**2 - 72*DD_phi_t1*D_phi_t0*h*v + 36*DD_phi_t1*v**2 - 24*D_phi_t0**2*D_phi_t1*h + 24*D_phi_t0**2*v + 48*D_phi_t0*D_phi_t1**2*h - 48*D_phi_t0*D_phi_t1*v - 24*D_phi_t1**3*h + 24*D_phi_t1**2*v)/(6*DD_phi_t0**3*DD_phi_t1*h**6) + (-8*D_phi_t0**3 + 24*D_phi_t0**2*D_phi_t1 - 24*D_phi_t0*D_phi_t1**2 + 8*D_phi_t1**3)**2/(16*DD_phi_t0**4*DD_phi_t1**2*h**6))**(1/3) - 2*(-12*D_phi_t0*h + 12*v)/(3*DD_phi_t0*h**2))/2 + sqrt(2*(-(-12*D_phi_t0*h + 12*v)**2/(12*DD_phi_t0**2*h**4) - (36*DD_phi_t1*D_phi_t0**2*h**2 - 72*DD_phi_t1*D_phi_t0*h*v + 36*DD_phi_t1*v**2 - 24*D_phi_t0**2*D_phi_t1*h + 24*D_phi_t0**2*v + 48*D_phi_t0*D_phi_t1**2*h - 48*D_phi_t0*D_phi_t1*v - 24*D_phi_t1**3*h + 24*D_phi_t1**2*v)/(DD_phi_t0**2*DD_phi_t1*h**4))/(3*(sqrt((-(-12*D_phi_t0*h + 12*v)**2/(12*DD_phi_t0**2*h**4) - (36*DD_phi_t1*D_phi_t0**2*h**2 - 72*DD_phi_t1*D_phi_t0*h*v + 36*DD_phi_t1*v**2 - 24*D_phi_t0**2*D_phi_t1*h + 24*D_phi_t0**2*v + 48*D_phi_t0*D_phi_t1**2*h - 48*D_phi_t0*D_phi_t1*v - 24*D_phi_t1**3*h + 24*D_phi_t1**2*v)/(DD_phi_t0**2*DD_phi_t1*h**4))**3/27 + (-(-12*D_phi_t0*h + 12*v)**3/(108*DD_phi_t0**3*h**6) + (-12*D_phi_t0*h + 12*v)*(36*DD_phi_t1*D_phi_t0**2*h**2 - 72*DD_phi_t1*D_phi_t0*h*v + 36*DD_phi_t1*v**2 - 24*D_phi_t0**2*D_phi_t1*h + 24*D_phi_t0**2*v + 48*D_phi_t0*D_phi_t1**2*h - 48*D_phi_t0*D_phi_t1*v - 24*D_phi_t1**3*h + 24*D_phi_t1**2*v)/(3*DD_phi_t0**3*DD_phi_t1*h**6) - (-8*D_phi_t0**3 + 24*D_phi_t0**2*D_phi_t1 - 24*D_phi_t0*D_phi_t1**2 + 8*D_phi_t1**3)**2/(8*DD_phi_t0**4*DD_phi_t1**2*h**6))**2/4) + (-12*D_phi_t0*h + 12*v)**3/(216*DD_phi_t0**3*h**6) - (-12*D_phi_t0*h + 12*v)*(36*DD_phi_t1*D_phi_t0**2*h**2 - 72*DD_phi_t1*D_phi_t0*h*v + 36*DD_phi_t1*v**2 - 24*D_phi_t0**2*D_phi_t1*h + 24*D_phi_t0**2*v + 48*D_phi_t0*D_phi_t1**2*h - 48*D_phi_t0*D_phi_t1*v - 24*D_phi_t1**3*h + 24*D_phi_t1**2*v)/(6*DD_phi_t0**3*DD_phi_t1*h**6) + (-8*D_phi_t0**3 + 24*D_phi_t0**2*D_phi_t1 - 24*D_phi_t0*D_phi_t1**2 + 8*D_phi_t1**3)**2/(16*DD_phi_t0**4*DD_phi_t1**2*h**6))**(1/3)) - 2*(sqrt((-(-12*D_phi_t0*h + 12*v)**2/(12*DD_phi_t0**2*h**4) - (36*DD_phi_t1*D_phi_t0**2*h**2 - 72*DD_phi_t1*D_phi_t0*h*v + 36*DD_phi_t1*v**2 - 24*D_phi_t0**2*D_phi_t1*h + 24*D_phi_t0**2*v + 48*D_phi_t0*D_phi_t1**2*h - 48*D_phi_t0*D_phi_t1*v - 24*D_phi_t1**3*h + 24*D_phi_t1**2*v)/(DD_phi_t0**2*DD_phi_t1*h**4))**3/27 + (-(-12*D_phi_t0*h + 12*v)**3/(108*DD_phi_t0**3*h**6) + (-12*D_phi_t0*h + 12*v)*(36*DD_phi_t1*D_phi_t0**2*h**2 - 72*DD_phi_t1*D_phi_t0*h*v + 36*DD_phi_t1*v**2 - 24*D_phi_t0**2*D_phi_t1*h + 24*D_phi_t0**2*v + 48*D_phi_t0*D_phi_t1**2*h - 48*D_phi_t0*D_phi_t1*v - 24*D_phi_t1**3*h + 24*D_phi_t1**2*v)/(3*DD_phi_t0**3*DD_phi_t1*h**6) - (-8*D_phi_t0**3 + 24*D_phi_t0**2*D_phi_t1 - 24*D_phi_t0*D_phi_t1**2 + 8*D_phi_t1**3)**2/(8*DD_phi_t0**4*DD_phi_t1**2*h**6))**2/4) + (-12*D_phi_t0*h + 12*v)**3/(216*DD_phi_t0**3*h**6) - (-12*D_phi_t0*h + 12*v)*(36*DD_phi_t1*D_phi_t0**2*h**2 - 72*DD_phi_t1*D_phi_t0*h*v + 36*DD_phi_t1*v**2 - 24*D_phi_t0**2*D_phi_t1*h + 24*D_phi_t0**2*v + 48*D_phi_t0*D_phi_t1**2*h - 48*D_phi_t0*D_phi_t1*v - 24*D_phi_t1**3*h + 24*D_phi_t1**2*v)/(6*DD_phi_t0**3*DD_phi_t1*h**6) + (-8*D_phi_t0**3 + 24*D_phi_t0**2*D_phi_t1 - 24*D_phi_t0*D_phi_t1**2 + 8*D_phi_t1**3)**2/(16*DD_phi_t0**4*DD_phi_t1**2*h**6))**(1/3) - 4*(-12*D_phi_t0*h + 12*v)/(3*DD_phi_t0*h**2) - 2*(-8*D_phi_t0**3 + 24*D_phi_t0**2*D_phi_t1 - 24*D_phi_t0*D_phi_t1**2 + 8*D_phi_t1**3)/(DD_phi_t0**2*DD_phi_t1*h**3*sqrt(-2*(-(-12*D_phi_t0*h + 12*v)**2/(12*DD_phi_t0**2*h**4) - (36*DD_phi_t1*D_phi_t0**2*h**2 - 72*DD_phi_t1*D_phi_t0*h*v + 36*DD_phi_t1*v**2 - 24*D_phi_t0**2*D_phi_t1*h + 24*D_phi_t0**2*v + 48*D_phi_t0*D_phi_t1**2*h - 48*D_phi_t0*D_phi_t1*v - 24*D_phi_t1**3*h + 24*D_phi_t1**2*v)/(DD_phi_t0**2*DD_phi_t1*h**4))/(3*(sqrt((-(-12*D_phi_t0*h + 12*v)**2/(12*DD_phi_t0**2*h**4) - (36*DD_phi_t1*D_phi_t0**2*h**2 - 72*DD_phi_t1*D_phi_t0*h*v + 36*DD_phi_t1*v**2 - 24*D_phi_t0**2*D_phi_t1*h + 24*D_phi_t0**2*v + 48*D_phi_t0*D_phi_t1**2*h - 48*D_phi_t0*D_phi_t1*v - 24*D_phi_t1**3*h + 24*D_phi_t1**2*v)/(DD_phi_t0**2*DD_phi_t1*h**4))**3/27 + (-(-12*D_phi_t0*h + 12*v)**3/(108*DD_phi_t0**3*h**6) + (-12*D_phi_t0*h + 12*v)*(36*DD_phi_t1*D_phi_t0**2*h**2 - 72*DD_phi_t1*D_phi_t0*h*v + 36*DD_phi_t1*v**2 - 24*D_phi_t0**2*D_phi_t1*h + 24*D_phi_t0**2*v + 48*D_phi_t0*D_phi_t1**2*h - 48*D_phi_t0*D_phi_t1*v - 24*D_phi_t1**3*h + 24*D_phi_t1**2*v)/(3*DD_phi_t0**3*DD_phi_t1*h**6) - (-8*D_phi_t0**3 + 24*D_phi_t0**2*D_phi_t1 - 24*D_phi_t0*D_phi_t1**2 + 8*D_phi_t1**3)**2/(8*DD_phi_t0**4*DD_phi_t1**2*h**6))**2/4) + (-12*D_phi_t0*h + 12*v)**3/(216*DD_phi_t0**3*h**6) - (-12*D_phi_t0*h + 12*v)*(36*DD_phi_t1*D_phi_t0**2*h**2 - 72*DD_phi_t1*D_phi_t0*h*v + 36*DD_phi_t1*v**2 - 24*D_phi_t0**2*D_phi_t1*h + 24*D_phi_t0**2*v + 48*D_phi_t0*D_phi_t1**2*h - 48*D_phi_t0*D_phi_t1*v - 24*D_phi_t1**3*h + 24*D_phi_t1**2*v)/(6*DD_phi_t0**3*DD_phi_t1*h**6) + (-8*D_phi_t0**3 + 24*D_phi_t0**2*D_phi_t1 - 24*D_phi_t0*D_phi_t1**2 + 8*D_phi_t1**3)**2/(16*DD_phi_t0**4*DD_phi_t1**2*h**6))**(1/3)) + 2*(sqrt((-(-12*D_phi_t0*h + 12*v)**2/(12*DD_phi_t0**2*h**4) - (36*DD_phi_t1*D_phi_t0**2*h**2 - 72*DD_phi_t1*D_phi_t0*h*v + 36*DD_phi_t1*v**2 - 24*D_phi_t0**2*D_phi_t1*h + 24*D_phi_t0**2*v + 48*D_phi_t0*D_phi_t1**2*h - 48*D_phi_t0*D_phi_t1*v - 24*D_phi_t1**3*h + 24*D_phi_t1**2*v)/(DD_phi_t0**2*DD_phi_t1*h**4))**3/27 + (-(-12*D_phi_t0*h + 12*v)**3/(108*DD_phi_t0**3*h**6) + (-12*D_phi_t0*h + 12*v)*(36*DD_phi_t1*D_phi_t0**2*h**2 - 72*DD_phi_t1*D_phi_t0*h*v + 36*DD_phi_t1*v**2 - 24*D_phi_t0**2*D_phi_t1*h + 24*D_phi_t0**2*v + 48*D_phi_t0*D_phi_t1**2*h - 48*D_phi_t0*D_phi_t1*v - 24*D_phi_t1**3*h + 24*D_phi_t1**2*v)/(3*DD_phi_t0**3*DD_phi_t1*h**6) - (-8*D_phi_t0**3 + 24*D_phi_t0**2*D_phi_t1 - 24*D_phi_t0*D_phi_t1**2 + 8*D_phi_t1**3)**2/(8*DD_phi_t0**4*DD_phi_t1**2*h**6))**2/4) + (-12*D_phi_t0*h + 12*v)**3/(216*DD_phi_t0**3*h**6) - (-12*D_phi_t0*h + 12*v)*(36*DD_phi_t1*D_phi_t0**2*h**2 - 72*DD_phi_t1*D_phi_t0*h*v + 36*DD_phi_t1*v**2 - 24*D_phi_t0**2*D_phi_t1*h + 24*D_phi_t0**2*v + 48*D_phi_t0*D_phi_t1**2*h - 48*D_phi_t0*D_phi_t1*v - 24*D_phi_t1**3*h + 24*D_phi_t1**2*v)/(6*DD_phi_t0**3*DD_phi_t1*h**6) + (-8*D_phi_t0**3 + 24*D_phi_t0**2*D_phi_t1 - 24*D_phi_t0*D_phi_t1**2 + 8*D_phi_t1**3)**2/(16*DD_phi_t0**4*DD_phi_t1**2*h**6))**(1/3) - 2*(-12*D_phi_t0*h + 12*v)/(3*DD_phi_t0*h**2))))/2, True))]"
     },
     "metadata": {},
     "execution_count": 49
    }
   ],
   "source": [
    "# from sympy.solvers import solve\n",
    "# a1_soln = solve(quartic_eq, a1)\n",
    "# a1_soln"
   ]
  },
  {
   "cell_type": "code",
   "execution_count": 43,
   "metadata": {},
   "outputs": [],
   "source": [
    "# # Equations for explicit solution\n",
    "# E1 = a0 - t0\n",
    "# E2 = b0 - phi_t0\n",
    "# E3 = a1 + a2*h + a3*h**2 - 1\n",
    "# E4 = b1 + b2*h + b3*h**2 - v/h\n",
    "# E5 = b1 - D_phi_t0*a1\n",
    "# E6 = b1 + 2*b2*h + 3*b3*h**2 - (D_phi_t1*(a1 + 2*a2*h + 3*a3*h**2))\n",
    "# E7 = 2*b2 - D_phi_t0*2*a2 + DD_phi_t0*a1**2\n",
    "\n",
    "\n",
    "# sols = solve([E1, E2, E3, E4, E5, E6, E7, E8], [a0, a1, a2, a3, b0, b1, b2, b3])\n",
    "# print(\"a0 = \", (sols[a0]).factor())\n",
    "# print(\"a1 = \", (sols[a1]).factor())\n",
    "# print(\"a2 = \", (sols[a2]).factor())\n",
    "# print(\"a3 = \", (sols[a3]).factor())\n",
    "# print(\"b0 = \", (sols[b0]).factor())\n",
    "# print(\"b1 = \", (sols[b1]).factor())\n",
    "# print(\"b2 = \", (sols[b2]).factor())\n",
    "# print(\"b3 = \", (sols[b3]).factor())"
   ]
  },
  {
   "cell_type": "code",
   "execution_count": 44,
   "metadata": {},
   "outputs": [],
   "source": [
    "# check sols2 type\n",
    "# print(type(sols2))"
   ]
  },
  {
   "cell_type": "code",
   "execution_count": 45,
   "metadata": {},
   "outputs": [],
   "source": [
    "# check sols2 keys\n",
    "# print(sols2.keys())"
   ]
  },
  {
   "cell_type": "code",
   "execution_count": 46,
   "metadata": {},
   "outputs": [],
   "source": [
    "# check sols2 values\n",
    "# print(sols2.values())"
   ]
  },
  {
   "cell_type": "code",
   "execution_count": 47,
   "metadata": {},
   "outputs": [],
   "source": [
    "# check sols2 items\n",
    "# print(sols2.items())"
   ]
  },
  {
   "cell_type": "code",
   "execution_count": 48,
   "metadata": {},
   "outputs": [],
   "source": [
    "# check sols2 values' type\n",
    "# print(type(sols2[a2]))"
   ]
  },
  {
   "cell_type": "code",
   "execution_count": null,
   "metadata": {},
   "outputs": [],
   "source": []
  }
 ],
 "metadata": {
  "kernelspec": {
   "display_name": "Python 3.8.0 64-bit",
   "language": "python",
   "name": "python38064bitb150fd5e52c142678463efd7d1b1209a"
  },
  "language_info": {
   "codemirror_mode": {
    "name": "ipython",
    "version": 3
   },
   "file_extension": ".py",
   "mimetype": "text/x-python",
   "name": "python",
   "nbconvert_exporter": "python",
   "pygments_lexer": "ipython3",
   "version": "3.8.0-final"
  }
 },
 "nbformat": 4,
 "nbformat_minor": 4
}