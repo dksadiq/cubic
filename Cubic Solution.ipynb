{
 "cells": [
  {
   "cell_type": "code",
   "execution_count": 1,
   "metadata": {},
   "outputs": [],
   "source": [
    "# import sympy for symbolic mathematics\n",
    "from sympy import var, solve, symbols"
   ]
  },
  {
   "cell_type": "code",
   "execution_count": 2,
   "metadata": {},
   "outputs": [],
   "source": [
    "# Set up variables\n",
    "a0, a1, a2, a3, b0, b1, b2, b3 = var('a0 a1 a2 a3 b0 b1 b2 b3')\n",
    "t0, h, v = var('t0 h v')\n",
    "phi_t0, phi_t1, D_phi_t0, D_phi_t1 = var('phi_t0 phi_t1 D_phi_t0 D_phi_t1')\n",
    "DD_phi_t0, DD_phi_t1 = var('DD_phi_t0 DD_phi_t1')"
   ]
  },
  {
   "cell_type": "code",
   "execution_count": 3,
   "metadata": {},
   "outputs": [],
   "source": [
    "# Equations for solution in terms of 'a1'\n",
    "E13 = a1 + a2*h + a3*h**2 - 1\n",
    "E14 = b1 + b2*h + b3*h**2 - v/h\n",
    "E15 = b1 - D_phi_t0*a1\n",
    "E16 = b1 + 2*b2*h + 3*b3*h**2 - (D_phi_t1*(a1 + 2*a2*h + 3*a3*h**2))\n",
    "E17 = 2*b2 - D_phi_t0*2*a2 + DD_phi_t0*a1**2"
   ]
  },
  {
   "cell_type": "code",
   "execution_count": 4,
   "metadata": {},
   "outputs": [],
   "source": [
    "# Solve the system of equations: E13 - E17\n",
    "sols2 = solve([E13, E14, E15, E16, E17], [a2, a3, b1, b2, b3])"
   ]
  },
  {
   "cell_type": "code",
   "execution_count": 5,
   "metadata": {},
   "outputs": [
    {
     "name": "stdout",
     "output_type": "stream",
     "text": [
      "a2 =  (DD_phi_t0*a1**2*h**2 - 4*D_phi_t0*a1*h + 4*D_phi_t1*a1*h - 6*D_phi_t1*h + 6*v)/(2*h**2*(D_phi_t0 - D_phi_t1))\n",
      "a3 =  -(DD_phi_t0*a1**2*h**2 - 2*D_phi_t0*a1*h - 2*D_phi_t0*h + 2*D_phi_t1*a1*h - 4*D_phi_t1*h + 6*v)/(2*h**3*(D_phi_t0 - D_phi_t1))\n",
      "b1 =  D_phi_t0*a1\n",
      "b2 =  (DD_phi_t0*D_phi_t1*a1**2*h**2 - 4*D_phi_t0**2*a1*h + 4*D_phi_t0*D_phi_t1*a1*h - 6*D_phi_t0*D_phi_t1*h + 6*D_phi_t0*v)/(2*h**2*(D_phi_t0 - D_phi_t1))\n",
      "b3 =  -(DD_phi_t0*D_phi_t1*a1**2*h**2 - 2*D_phi_t0**2*a1*h + 2*D_phi_t0*D_phi_t1*a1*h - 6*D_phi_t0*D_phi_t1*h + 4*D_phi_t0*v + 2*D_phi_t1*v)/(2*h**3*(D_phi_t0 - D_phi_t1))\n"
     ]
    }
   ],
   "source": [
    "# print values of a2, a3, b1, b2, b3 in terms of a1\n",
    "print(\"a2 = \", (sols2[a2]).factor())\n",
    "print(\"a3 = \", (sols2[a3]).factor())\n",
    "print(\"b1 = \", (sols2[b1]).factor())\n",
    "print(\"b2 = \", (sols2[b2]).factor())\n",
    "print(\"b3 = \", (sols2[b3]).factor())"
   ]
  },
  {
   "cell_type": "code",
   "execution_count": 6,
   "metadata": {},
   "outputs": [
    {
     "name": "stdout",
     "output_type": "stream",
     "text": [
      "<class 'dict'>\n"
     ]
    }
   ],
   "source": [
    "# check sols2 type\n",
    "print(type(sols2))"
   ]
  },
  {
   "cell_type": "code",
   "execution_count": 7,
   "metadata": {},
   "outputs": [
    {
     "name": "stdout",
     "output_type": "stream",
     "text": [
      "dict_keys([a2, a3, b1, b2, b3])\n"
     ]
    }
   ],
   "source": [
    "# check sols2 keys\n",
    "print(sols2.keys())"
   ]
  },
  {
   "cell_type": "code",
   "execution_count": 8,
   "metadata": {},
   "outputs": [
    {
     "name": "stdout",
     "output_type": "stream",
     "text": [
      "dict_values([(DD_phi_t0*a1**2*h**2 - 4*D_phi_t0*a1*h + 4*D_phi_t1*a1*h - 6*D_phi_t1*h + 6*v)/(2*h**2*(D_phi_t0 - D_phi_t1)), (-DD_phi_t0*a1**2*h**2/2 + 2*D_phi_t0*a1*h + D_phi_t1*a1*h - h*(D_phi_t0 + 2*D_phi_t1)*(a1 - 1) - 3*v)/(h**3*(D_phi_t0 - D_phi_t1)), D_phi_t0*a1, (DD_phi_t0*D_phi_t1*a1**2*h**2 - 4*D_phi_t0**2*a1*h + 4*D_phi_t0*D_phi_t1*a1*h - 6*D_phi_t0*D_phi_t1*h + 6*D_phi_t0*v)/(2*h**2*(D_phi_t0 - D_phi_t1)), (-DD_phi_t0*D_phi_t1*a1**2*h**2/2 + D_phi_t0**2*a1*h - D_phi_t0*D_phi_t1*a1*h + 3*D_phi_t0*D_phi_t1*h - 2*D_phi_t0*v - D_phi_t1*v)/(h**3*(D_phi_t0 - D_phi_t1))])\n"
     ]
    }
   ],
   "source": [
    "# check sols2 values\n",
    "print(sols2.values())"
   ]
  },
  {
   "cell_type": "code",
   "execution_count": 9,
   "metadata": {},
   "outputs": [
    {
     "name": "stdout",
     "output_type": "stream",
     "text": [
      "dict_items([(a2, (DD_phi_t0*a1**2*h**2 - 4*D_phi_t0*a1*h + 4*D_phi_t1*a1*h - 6*D_phi_t1*h + 6*v)/(2*h**2*(D_phi_t0 - D_phi_t1))), (a3, (-DD_phi_t0*a1**2*h**2/2 + 2*D_phi_t0*a1*h + D_phi_t1*a1*h - h*(D_phi_t0 + 2*D_phi_t1)*(a1 - 1) - 3*v)/(h**3*(D_phi_t0 - D_phi_t1))), (b1, D_phi_t0*a1), (b2, (DD_phi_t0*D_phi_t1*a1**2*h**2 - 4*D_phi_t0**2*a1*h + 4*D_phi_t0*D_phi_t1*a1*h - 6*D_phi_t0*D_phi_t1*h + 6*D_phi_t0*v)/(2*h**2*(D_phi_t0 - D_phi_t1))), (b3, (-DD_phi_t0*D_phi_t1*a1**2*h**2/2 + D_phi_t0**2*a1*h - D_phi_t0*D_phi_t1*a1*h + 3*D_phi_t0*D_phi_t1*h - 2*D_phi_t0*v - D_phi_t1*v)/(h**3*(D_phi_t0 - D_phi_t1)))])\n"
     ]
    }
   ],
   "source": [
    "# check sols2 items\n",
    "print(sols2.items())"
   ]
  },
  {
   "cell_type": "code",
   "execution_count": 10,
   "metadata": {},
   "outputs": [
    {
     "name": "stdout",
     "output_type": "stream",
     "text": [
      "<class 'dict_items'>\n"
     ]
    }
   ],
   "source": [
    "print(type(sols2.items()))"
   ]
  },
  {
   "cell_type": "code",
   "execution_count": null,
   "metadata": {},
   "outputs": [],
   "source": []
  }
 ],
 "metadata": {
  "kernelspec": {
   "display_name": "Python 3",
   "language": "python",
   "name": "python3"
  },
  "language_info": {
   "codemirror_mode": {
    "name": "ipython",
    "version": 3
   },
   "file_extension": ".py",
   "mimetype": "text/x-python",
   "name": "python",
   "nbconvert_exporter": "python",
   "pygments_lexer": "ipython3",
   "version": "3.7.7"
  }
 },
 "nbformat": 4,
 "nbformat_minor": 4
}
