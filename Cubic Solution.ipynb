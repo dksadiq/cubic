{
 "cells": [
  {
   "cell_type": "code",
   "execution_count": null,
   "metadata": {},
   "outputs": [],
   "source": [
    "# import sympy for symbolic mathematics\n",
    "from sympy import var, solve, symbols\n",
    "# import pandas"
   ]
  },
  {
   "cell_type": "code",
   "execution_count": null,
   "metadata": {},
   "outputs": [],
   "source": [
    "# Set up variables\n",
    "a0, a1, a2, a3, b0, b1, b2, b3 = var('a0 a1 a2 a3 b0 b1 b2 b3')\n",
    "t0, h, v = var('t0 h v')\n",
    "phi_t0, phi_t1, D_phi_t0, D_phi_t1 = var('phi_t0 phi_t1 D_phi_t0 D_phi_t1')\n",
    "DD_phi_t0, DD_phi_t1 = var('DD_phi_t0 DD_phi_t1')"
   ]
  },
  {
   "cell_type": "code",
   "execution_count": null,
   "metadata": {},
   "outputs": [],
   "source": [
    "# Equations for solution in terms of 'a1'\n",
    "E13 = a1 + a2*h + a3*h**2 - 1\n",
    "E14 = b1 + b2*h + b3*h**2 - v/h\n",
    "E15 = b1 - D_phi_t0*a1\n",
    "E16 = b1 + 2*b2*h + 3*b3*h**2 - (D_phi_t1*(a1 + 2*a2*h + 3*a3*h**2))\n",
    "E17 = 2*b2 - D_phi_t0*2*a2 + DD_phi_t0*a1**2"
   ]
  },
  {
   "cell_type": "code",
   "execution_count": null,
   "metadata": {},
   "outputs": [],
   "source": [
    "# Solve the system of equations: E13 - E17\n",
    "sols2 = solve([E13, E14, E15, E16, E17], [a2, a3, b1, b2, b3])"
   ]
  },
  {
   "cell_type": "code",
   "execution_count": null,
   "metadata": {},
   "outputs": [],
   "source": [
    "# print values of a2, a3, b1, b2, b3 in terms of a1\n",
    "print(\"a2 = \", (sols2[a2]).factor())\n",
    "print(\"a3 = \", (sols2[a3]).factor())\n",
    "print(\"b1 = \", (sols2[b1]).factor())\n",
    "print(\"b2 = \", (sols2[b2]).factor())\n",
    "print(\"b3 = \", (sols2[b3]).factor())"
   ]
  },
  {
   "cell_type": "code",
   "execution_count": null,
   "metadata": {},
   "outputs": [],
   "source": [
    "E8 = 2*b2 + 6*b3*h - D_phi_t1*(2*a2 + 6*a3*h) - DD_phi_t1*(a1 + 2*a2*h + 3*a3*h**2)**2\n",
    "# f = a2 * a2\n",
    "quartic_eq = E8.subs({a2:(sols2[a2]).factor(), a3:(sols2[a3]).factor(), b2:(sols2[b2]).factor(), b3:(sols2[b3]).factor()})\n",
    "# print (\"Quartic Equation is: \", quartic_eq)\n",
    "quartic_eq\n"
   ]
  },
  {
   "cell_type": "code",
   "execution_count": null,
   "metadata": {},
   "outputs": [],
   "source": [
    "from sympy.solvers import solve\n",
    "a1_soln = solve(quartic_eq, a1)\n",
    "a1_soln[0]"
   ]
  },
  {
   "cell_type": "code",
   "execution_count": null,
   "metadata": {},
   "outputs": [],
   "source": [
    "# # Equations for explicit solution\n",
    "# E1 = a0 - t0\n",
    "# E2 = b0 - phi_t0\n",
    "# E3 = a1 + a2*h + a3*h**2 - 1\n",
    "# E4 = b1 + b2*h + b3*h**2 - v/h\n",
    "# E5 = b1 - D_phi_t0*a1\n",
    "# E6 = b1 + 2*b2*h + 3*b3*h**2 - (D_phi_t1*(a1 + 2*a2*h + 3*a3*h**2))\n",
    "# E7 = 2*b2 - D_phi_t0*2*a2 + DD_phi_t0*a1**2\n",
    "\n",
    "\n",
    "# sols = solve([E1, E2, E3, E4, E5, E6, E7, E8], [a0, a1, a2, a3, b0, b1, b2, b3])\n",
    "# print(\"a0 = \", (sols[a0]).factor())\n",
    "# print(\"a1 = \", (sols[a1]).factor())\n",
    "# print(\"a2 = \", (sols[a2]).factor())\n",
    "# print(\"a3 = \", (sols[a3]).factor())\n",
    "# print(\"b0 = \", (sols[b0]).factor())\n",
    "# print(\"b1 = \", (sols[b1]).factor())\n",
    "# print(\"b2 = \", (sols[b2]).factor())\n",
    "# print(\"b3 = \", (sols[b3]).factor())"
   ]
  },
  {
   "cell_type": "code",
   "execution_count": null,
   "metadata": {},
   "outputs": [],
   "source": [
    "# check sols2 type\n",
    "# print(type(sols2))"
   ]
  },
  {
   "cell_type": "code",
   "execution_count": null,
   "metadata": {},
   "outputs": [],
   "source": [
    "# check sols2 keys\n",
    "# print(sols2.keys())"
   ]
  },
  {
   "cell_type": "code",
   "execution_count": null,
   "metadata": {},
   "outputs": [],
   "source": [
    "# check sols2 values\n",
    "# print(sols2.values())"
   ]
  },
  {
   "cell_type": "code",
   "execution_count": null,
   "metadata": {},
   "outputs": [],
   "source": [
    "# check sols2 items\n",
    "# print(sols2.items())"
   ]
  },
  {
   "cell_type": "code",
   "execution_count": null,
   "metadata": {},
   "outputs": [],
   "source": [
    "# check sols2 values' type\n",
    "# print(type(sols2[a2]))"
   ]
  },
  {
   "cell_type": "code",
   "execution_count": null,
   "metadata": {},
   "outputs": [],
   "source": []
  }
 ],
 "metadata": {
  "kernelspec": {
   "display_name": "Python 3.8.0 64-bit",
   "language": "python",
   "name": "python38064bitb150fd5e52c142678463efd7d1b1209a"
  },
  "language_info": {
   "codemirror_mode": {
    "name": "ipython",
    "version": 3
   },
   "file_extension": ".py",
   "mimetype": "text/x-python",
   "name": "python",
   "nbconvert_exporter": "python",
   "pygments_lexer": "ipython3",
   "version": "3.8.0-final"
  }
 },
 "nbformat": 4,
 "nbformat_minor": 4
}